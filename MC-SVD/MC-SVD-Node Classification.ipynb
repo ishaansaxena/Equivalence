{
 "cells": [
  {
   "cell_type": "markdown",
   "metadata": {},
   "source": [
    "# MC-SVD Procedure - Node Classification"
   ]
  },
  {
   "cell_type": "code",
   "execution_count": 1,
   "metadata": {},
   "outputs": [],
   "source": [
    "import torch\n",
    "import torch.nn as nn\n",
    "import numpy as np\n",
    "from torch.nn import init\n",
    "from random import shuffle, randint\n",
    "import torch.nn.functional as F\n",
    "from torch_geometric.datasets import Reddit, PPI, Planetoid\n",
    "from itertools import combinations, combinations_with_replacement\n",
    "from sklearn.metrics import f1_score, accuracy_score\n",
    "from sklearn.decomposition import TruncatedSVD"
   ]
  },
  {
   "cell_type": "markdown",
   "metadata": {},
   "source": [
    "## Define the dataset, the type of prediction and the number of samples"
   ]
  },
  {
   "cell_type": "code",
   "execution_count": 2,
   "metadata": {},
   "outputs": [],
   "source": [
    "DATASET = 'cora'\n",
    "PREDICTION = 'node'\n",
    "PATH_TO_DATASETS_DIRECTORY = './'"
   ]
  },
  {
   "cell_type": "code",
   "execution_count": 3,
   "metadata": {},
   "outputs": [],
   "source": [
    "# t-SVD sampling parameters\n",
    "NUM_SAMPLES = 20\n",
    "NUM_ITERS   = 10"
   ]
  },
  {
   "cell_type": "code",
   "execution_count": 4,
   "metadata": {},
   "outputs": [],
   "source": [
    "datasets = {\n",
    "    'reddit': Reddit(root=PATH_TO_DATASETS_DIRECTORY + '/datasets/Reddit'),\n",
    "    'cora' : Planetoid(root=PATH_TO_DATASETS_DIRECTORY + '/datasets/Cora/', name='Cora'),\n",
    "    'citeseer' : Planetoid(root=PATH_TO_DATASETS_DIRECTORY + '/datasets/CiteSeer/', name='CiteSeer'),\n",
    "    'pubmed' : Planetoid(root=PATH_TO_DATASETS_DIRECTORY + '/datasets/PubMed/', name='PubMed'),\n",
    "}\n",
    "dataset = datasets[DATASET]\n",
    "data = dataset[0]\n",
    "device = torch.device(\"cuda\" if torch.cuda.is_available() else \"cpu\")"
   ]
  },
  {
   "cell_type": "code",
   "execution_count": 5,
   "metadata": {},
   "outputs": [],
   "source": [
    "predictions = {\n",
    "    'node' : dataset.num_classes,\n",
    "    'link' : 2,\n",
    "    'triad' : 4,\n",
    "}"
   ]
  },
  {
   "cell_type": "code",
   "execution_count": 6,
   "metadata": {},
   "outputs": [
    {
     "name": "stdout",
     "output_type": "stream",
     "text": [
      "Printing Dataset Characteristics\n",
      "Name:  cora\n",
      "Total Number of Nodes:  2708\n",
      "Total Number of Training Nodes:  140\n",
      "Total Number of Val Nodes:  500\n",
      "Total Number of Test Nodes:  1000\n",
      "Num Node Features:  1433\n",
      "Num Node Classes:  7\n",
      "Number of Edges:  10556\n",
      "Number of Samples for structural:  20\n",
      "Prediction Type:  node\n"
     ]
    }
   ],
   "source": [
    "print(\"Printing Dataset Characteristics\")\n",
    "print(\"Name: \", DATASET)\n",
    "print(\"Total Number of Nodes: \", data.num_nodes)\n",
    "print(\"Total Number of Training Nodes: \", data.train_mask.sum().item())\n",
    "print(\"Total Number of Val Nodes: \", data.val_mask.sum().item())\n",
    "print(\"Total Number of Test Nodes: \", data.test_mask.sum().item())\n",
    "print(\"Num Node Features: \", data.num_features)\n",
    "print(\"Num Node Classes: \", dataset.num_classes)\n",
    "print(\"Number of Edges: \", data.edge_index.shape[1])\n",
    "print(\"Number of Samples for structural: \", NUM_SAMPLES)\n",
    "print(\"Prediction Type: \", PREDICTION)"
   ]
  },
  {
   "cell_type": "code",
   "execution_count": 7,
   "metadata": {},
   "outputs": [],
   "source": [
    "# data.train_mask = 1 - data.val_mask - data.test_mask\n",
    "data.train_mask = ~data.val_mask * ~data.test_mask\n",
    "\n",
    "adj_mat = torch.zeros((data.num_nodes,data.num_nodes))\n",
    "edges = data.edge_index.t()\n",
    "adj_mat[edges[:,0], edges[:,1]] = 1"
   ]
  },
  {
   "cell_type": "markdown",
   "metadata": {},
   "source": [
    "## Build the non-overlapping induced subgraphs"
   ]
  },
  {
   "cell_type": "code",
   "execution_count": 8,
   "metadata": {},
   "outputs": [],
   "source": [
    "adj_train = adj_mat[data.train_mask].t()[data.train_mask].t()\n",
    "adj_validation = adj_mat[data.val_mask].t()[data.val_mask].t()\n",
    "adj_test = adj_mat[data.test_mask].t()[data.test_mask].t()"
   ]
  },
  {
   "cell_type": "markdown",
   "metadata": {},
   "source": [
    "## Corrupt a small fraction of the edges"
   ]
  },
  {
   "cell_type": "code",
   "execution_count": 9,
   "metadata": {},
   "outputs": [],
   "source": [
    "def corrupt_adj(adj_mat, task, percent=2):\n",
    "    \"\"\" Returns the corrupted version of the adjacency matrix \"\"\"\n",
    "    if task == 'link':\n",
    "        edges = adj_mat.triu().nonzero()\n",
    "        num_edges = edges.shape[0]\n",
    "        num_to_corrupt = int(percent/100.0 * num_edges)\n",
    "        random_corruption = np.random.randint(num_edges, size=num_to_corrupt)\n",
    "        adj_mat_corrupted = adj_mat.clone()\n",
    "        false_edges, false_non_edges = [], []\n",
    "        #Edge Corruption\n",
    "        for ed in edges[random_corruption]:\n",
    "            adj_mat_corrupted[ed[0], ed[1]] = 0\n",
    "            adj_mat_corrupted[ed[1], ed[0]] = 0\n",
    "            false_non_edges.append(ed.tolist())\n",
    "        #Non Edge Corruption\n",
    "        random_non_edge_corruption = list(np.random.randint(adj_mat.shape[0], size = 6*num_to_corrupt))\n",
    "        non_edge_to_corrupt = []\n",
    "        for k in range(len(random_non_edge_corruption)-1):\n",
    "            to_check = [random_non_edge_corruption[k], random_non_edge_corruption[k+1]]\n",
    "            if to_check not in edges.tolist():\n",
    "                non_edge_to_corrupt.append(to_check)\n",
    "            if len(non_edge_to_corrupt) == num_to_corrupt:\n",
    "                break\n",
    "        non_edge_to_corrupt = torch.Tensor(non_edge_to_corrupt).type(torch.int16)\n",
    "        for n_ed in non_edge_to_corrupt:\n",
    "            adj_mat_corrupted[n_ed[0], n_ed[1]] = 1\n",
    "            adj_mat_corrupted[n_ed[1], n_ed[0]] = 1\n",
    "            false_edges.append(n_ed.tolist())\n",
    "    return adj_mat_corrupted, false_edges, false_non_edges\n"
   ]
  },
  {
   "cell_type": "code",
   "execution_count": 10,
   "metadata": {},
   "outputs": [],
   "source": [
    "adj_train_corrupted, train_false_edges, train_false_non_edges = corrupt_adj(adj_train, 'link', percent=2)\n",
    "adj_val_corrupted, val_false_edges, val_false_non_edges = corrupt_adj(adj_validation, 'link', percent=2)\n",
    "adj_test_corrupted, test_false_edges, test_false_non_edges  = corrupt_adj(adj_test, 'link', percent=2)"
   ]
  },
  {
   "cell_type": "markdown",
   "metadata": {},
   "source": [
    "## Define the Supervised Learning Network"
   ]
  },
  {
   "cell_type": "code",
   "execution_count": 11,
   "metadata": {},
   "outputs": [],
   "source": [
    "num_neurons = 256\n",
    "input_rep = num_neurons + data.num_features\n",
    "\n",
    "class StructMLP(nn.Module):\n",
    "    \"\"\"\n",
    "        Compute an estimate of the expected value of a function of node embeddings\n",
    "        Permutation Invariant Function - Deepsets - Zaheer, et al.\n",
    "    \"\"\"\n",
    "    def __init__(self, node_set_size=1):\n",
    "        super(StructMLP, self).__init__()\n",
    "\n",
    "        self.node_set_size = node_set_size\n",
    "        #Deepsets MLP\n",
    "\n",
    "        self.ds_layer_1 = nn.Linear(input_rep*node_set_size, num_neurons)\n",
    "        self.ds_layer_2 = nn.Linear(num_neurons, num_neurons)\n",
    "\n",
    "        #One Hidden Layer\n",
    "        self.layer1 = nn.Linear(num_neurons, num_neurons)\n",
    "        self.layer2 = nn.Linear(num_neurons, predictions[PREDICTION])\n",
    "        self.relu = nn.ReLU()\n",
    "        self.sigmoid = nn.Sigmoid()\n",
    "\n",
    "    def forward(self, input_tensor):\n",
    "        #Deepsets initially on each of the samples\n",
    "        num_nodes = input_tensor.shape[1]\n",
    "        comb_tensor = torch.LongTensor(list(combinations(range(num_nodes), self.node_set_size)))\n",
    "        sum_tensor = torch.zeros(comb_tensor.shape[0], num_neurons).to(device)\n",
    "\n",
    "        for i in range(input_tensor.shape[0]):\n",
    "            #Process the input tensor to form n choose k combinations and create a zero tensor\n",
    "            set_init_rep = input_tensor[i][comb_tensor].view(comb_tensor.shape[0],-1)\n",
    "\n",
    "            x = self.ds_layer_1(set_init_rep)\n",
    "            x = self.relu(x)\n",
    "            x = self.ds_layer_2(x)\n",
    "            sum_tensor += x\n",
    "\n",
    "        x = sum_tensor / input_tensor.shape[0]\n",
    "\n",
    "        #One Hidden Layer for predictor\n",
    "        x = self.layer1(x)\n",
    "        x = self.relu(x)\n",
    "        x = self.layer2(x)\n",
    "        return x\n",
    "\n",
    "    def compute_loss(self, input_tensor, target):\n",
    "        pred = self.forward(input_tensor)\n",
    "        return F.cross_entropy(pred, target)"
   ]
  },
  {
   "cell_type": "code",
   "execution_count": 12,
   "metadata": {},
   "outputs": [],
   "source": [
    "if PREDICTION == 'node':\n",
    "    node_set_size = 1\n",
    "elif PREDICTION == 'link':\n",
    "    node_set_size = 2\n",
    "else:\n",
    "    node_set_size = 3\n",
    "\n",
    "mlp = StructMLP(node_set_size).to(device)\n",
    "mlp_optimizer = torch.optim.Adam(mlp.parameters(), lr=0.001)\n",
    "mlp_model = 'best_mlp_model.model'"
   ]
  },
  {
   "cell_type": "code",
   "execution_count": 13,
   "metadata": {},
   "outputs": [],
   "source": [
    "if PREDICTION == 'node':\n",
    "    target_train = data.y[data.train_mask].type(torch.long)\n",
    "    target_val = data.y[data.val_mask].type(torch.long)\n",
    "    target_test = data.y[data.test_mask].type(torch.long)"
   ]
  },
  {
   "cell_type": "markdown",
   "metadata": {},
   "source": [
    "## Training the Supervised Learning Network"
   ]
  },
  {
   "cell_type": "code",
   "execution_count": 14,
   "metadata": {},
   "outputs": [
    {
     "name": "stdout",
     "output_type": "stream",
     "text": [
      "Training Loss:  1.9437941312789917\n",
      "Validation Loss:  tensor(1.9426)\n",
      "Training Loss:  1.925266146659851\n",
      "Validation Loss:  tensor(1.9252)\n",
      "Training Loss:  1.9076887369155884\n",
      "Validation Loss:  tensor(1.9086)\n",
      "Training Loss:  1.8879497051239014\n",
      "Validation Loss:  tensor(1.8908)\n",
      "Training Loss:  1.86342191696167\n",
      "Validation Loss:  tensor(1.8695)\n",
      "Training Loss:  1.8326163291931152\n",
      "Validation Loss:  tensor(1.8440)\n",
      "Training Loss:  1.7943185567855835\n",
      "Validation Loss:  tensor(1.8135)\n",
      "Training Loss:  1.7482837438583374\n",
      "Validation Loss:  tensor(1.7787)\n",
      "Training Loss:  1.6963183879852295\n",
      "Validation Loss:  tensor(1.7421)\n",
      "Training Loss:  1.6403419971466064\n",
      "Validation Loss:  tensor(1.7062)\n",
      "Training Loss:  1.5789201259613037\n",
      "Validation Loss:  tensor(1.6706)\n",
      "Training Loss:  1.5071896314620972\n",
      "Validation Loss:  tensor(1.6304)\n",
      "Training Loss:  1.4228500127792358\n",
      "Validation Loss:  tensor(1.5812)\n",
      "Training Loss:  1.3291668891906738\n",
      "Validation Loss:  tensor(1.5260)\n",
      "Training Loss:  1.2306079864501953\n",
      "Validation Loss:  tensor(1.4664)\n",
      "Training Loss:  1.129880428314209\n",
      "Validation Loss:  tensor(1.4029)\n",
      "Training Loss:  1.030133843421936\n",
      "Validation Loss:  tensor(1.3412)\n",
      "Training Loss:  0.9342430830001831\n",
      "Validation Loss:  tensor(1.2795)\n",
      "Training Loss:  0.8447651863098145\n",
      "Validation Loss:  tensor(1.2227)\n",
      "Training Loss:  0.76176518201828\n",
      "Validation Loss:  tensor(1.1775)\n",
      "Training Loss:  0.6834864616394043\n",
      "Validation Loss:  tensor(1.1396)\n",
      "Training Loss:  0.6080455183982849\n",
      "Validation Loss:  tensor(1.1116)\n",
      "Training Loss:  0.5349603891372681\n",
      "Validation Loss:  tensor(1.0938)\n",
      "Training Loss:  0.4645164906978607\n",
      "Validation Loss:  tensor(1.0800)\n",
      "Training Loss:  0.39716917276382446\n",
      "Validation Loss:  tensor(1.0745)\n",
      "Training Loss:  0.33255112171173096\n",
      "Validation Loss:  tensor(1.0716)\n",
      "Training Loss:  0.2712671458721161\n",
      "Validation Loss:  tensor(1.0617)\n",
      "Training Loss:  0.2149493545293808\n",
      "Validation Loss:  tensor(1.0561)\n",
      "Training Loss:  0.16551204025745392\n",
      "Training Loss:  0.12499843537807465\n",
      "Training Loss:  0.09395600855350494\n",
      "Training Loss:  0.07120507955551147\n",
      "Training Loss:  0.0548107884824276\n",
      "Training Loss:  0.04247649013996124\n",
      "Training Loss:  0.03330254554748535\n",
      "Training Loss:  0.02631123922765255\n",
      "Training Loss:  0.020808663219213486\n",
      "Training Loss:  0.0164168793708086\n",
      "Training Loss:  0.013181287795305252\n",
      "Training Loss:  0.010650144889950752\n",
      "Training Loss:  0.008767747320234776\n",
      "Training Loss:  0.007247785106301308\n",
      "Training Loss:  0.00608235877007246\n",
      "Training Loss:  0.0051470426842570305\n",
      "Training Loss:  0.004393314477056265\n",
      "Training Loss:  0.003786619519814849\n",
      "Training Loss:  0.003295295173302293\n",
      "Training Loss:  0.002875126199796796\n",
      "Training Loss:  0.002508212113752961\n",
      "Training Loss:  0.0022223275154829025\n"
     ]
    }
   ],
   "source": [
    "epochs = 50\n",
    "validation_loss = 10000.0\n",
    "for num_epoch in range(epochs):\n",
    "    mlp_optimizer.zero_grad()\n",
    "    target = target_train.to(device)\n",
    "    numbers = list(np.random.randint(500, size=NUM_SAMPLES))\n",
    "    hidden_samples_train = []\n",
    "    for number in numbers :\n",
    "        svd = TruncatedSVD(n_components=256, n_iter=NUM_ITERS, random_state=number)\n",
    "        u_train = svd.fit_transform(adj_train_corrupted)\n",
    "        hidden_samples_train.append(torch.Tensor(u_train).to(device))\n",
    "    for i in range(NUM_SAMPLES):\n",
    "        hidden_samples_train[i] = torch.cat((hidden_samples_train[i].to(device), data.x[data.train_mask].to(device)),1)\n",
    "    input_ = torch.stack(hidden_samples_train)\n",
    "    input_ = input_.detach()\n",
    "    loss = mlp.compute_loss(input_, target)\n",
    "    print(\"Training Loss: \", loss.item())\n",
    "    with torch.no_grad():\n",
    "        #Do Validation and check if validation loss has gone down\n",
    "        numbers = list(np.random.randint(500, size=NUM_SAMPLES))\n",
    "        hidden_samples_validation = []\n",
    "        for number in numbers :\n",
    "            svd = TruncatedSVD(n_components=256, n_iter=NUM_ITERS, random_state=number)\n",
    "            u_validation = svd.fit_transform(adj_val_corrupted)\n",
    "            hidden_samples_validation.append(torch.Tensor(u_validation).to(device))\n",
    "        for i in range(NUM_SAMPLES):\n",
    "            hidden_samples_validation[i] = torch.cat((hidden_samples_validation[i].to(device), data.x[data.val_mask].to(device)),1)\n",
    "        input_val = torch.stack(hidden_samples_validation)\n",
    "        input_val = input_val.detach()\n",
    "        compute_val_loss = mlp.compute_loss(input_val, target_val.to(device))\n",
    "        if compute_val_loss < validation_loss:\n",
    "            validation_loss = compute_val_loss\n",
    "            print(\"Validation Loss: \", validation_loss)\n",
    "            #Save Model\n",
    "            torch.save(mlp.state_dict(), mlp_model)\n",
    "    loss.backward()\n",
    "    mlp_optimizer.step()"
   ]
  },
  {
   "cell_type": "markdown",
   "metadata": {},
   "source": [
    "## Load the best model"
   ]
  },
  {
   "cell_type": "code",
   "execution_count": 15,
   "metadata": {},
   "outputs": [
    {
     "data": {
      "text/plain": [
       "<All keys matched successfully>"
      ]
     },
     "execution_count": 15,
     "metadata": {},
     "output_type": "execute_result"
    }
   ],
   "source": [
    "mlp = StructMLP(node_set_size).to(device)\n",
    "mlp.load_state_dict(torch.load(mlp_model))"
   ]
  },
  {
   "cell_type": "markdown",
   "metadata": {},
   "source": [
    "## Forward pass on the test graphs"
   ]
  },
  {
   "cell_type": "code",
   "execution_count": 16,
   "metadata": {},
   "outputs": [
    {
     "name": "stderr",
     "output_type": "stream",
     "text": [
      "/Library/Frameworks/Python.framework/Versions/3.6/lib/python3.6/site-packages/ipykernel_launcher.py:15: UserWarning: Implicit dimension choice for log_softmax has been deprecated. Change the call to include dim=X as an argument.\n",
      "  from ipykernel import kernelapp as app\n"
     ]
    }
   ],
   "source": [
    "numbers = list(np.random.randint(500, size=NUM_SAMPLES))\n",
    "hidden_samples_test = []\n",
    "for number in numbers :\n",
    "    svd = TruncatedSVD(n_components=256, n_iter=NUM_ITERS, random_state=number)\n",
    "    u_test = svd.fit_transform(adj_test_corrupted)\n",
    "    hidden_samples_test.append(torch.Tensor(u_test).to(device))\n",
    "for i in range(NUM_SAMPLES):\n",
    "    hidden_samples_test[i] = torch.cat((hidden_samples_test[i].to(device), data.x[data.test_mask].to(device)),1)\n",
    "t_test = target_test.to(\"cpu\").numpy()\n",
    "input_test = torch.stack(hidden_samples_test)\n",
    "input_test = input_test.detach()\n",
    "\n",
    "with torch.no_grad():\n",
    "    test_pred = mlp.forward(input_test)\n",
    "    pred = F.log_softmax(test_pred)\n",
    "\n",
    "pred = pred.detach().to(\"cpu\").numpy()\n",
    "pred = np.argmax(pred, axis=1)"
   ]
  },
  {
   "cell_type": "markdown",
   "metadata": {},
   "source": [
    "## Test results"
   ]
  },
  {
   "cell_type": "code",
   "execution_count": 17,
   "metadata": {},
   "outputs": [
    {
     "name": "stdout",
     "output_type": "stream",
     "text": [
      "Test Micro F1 Score:  0.663\n",
      "Test Weighted F1 Score:  0.6441585794790231\n",
      "Test Accuracy Score:  0.663\n"
     ]
    }
   ],
   "source": [
    "print(\"Test Micro F1 Score: \", f1_score(t_test, pred, average='micro'))\n",
    "print(\"Test Weighted F1 Score: \", f1_score(t_test, pred, average='weighted'))\n",
    "print(\"Test Accuracy Score: \", accuracy_score(target_test, pred))"
   ]
  },
  {
   "cell_type": "code",
   "execution_count": null,
   "metadata": {
    "collapsed": true
   },
   "outputs": [],
   "source": []
  }
 ],
 "metadata": {
  "kernelspec": {
   "display_name": "Python 3",
   "language": "python",
   "name": "python3"
  },
  "language_info": {
   "codemirror_mode": {
    "name": "ipython",
    "version": 3
   },
   "file_extension": ".py",
   "mimetype": "text/x-python",
   "name": "python",
   "nbconvert_exporter": "python",
   "pygments_lexer": "ipython3",
   "version": "3.6.4"
  }
 },
 "nbformat": 4,
 "nbformat_minor": 2
}
